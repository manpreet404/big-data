{
  "nbformat": 4,
  "nbformat_minor": 0,
  "metadata": {
    "colab": {
      "provenance": [],
      "authorship_tag": "ABX9TyO29lNh0rZ0RxfIM6F5ULIk",
      "include_colab_link": true
    },
    "kernelspec": {
      "name": "python3",
      "display_name": "Python 3"
    },
    "language_info": {
      "name": "python"
    }
  },
  "cells": [
    {
      "cell_type": "markdown",
      "metadata": {
        "id": "view-in-github",
        "colab_type": "text"
      },
      "source": [
        "<a href=\"https://colab.research.google.com/github/JatinGarg01/Big-Data/blob/main/Assiment3_202301025_JatinGarg.ipynb\" target=\"_parent\"><img src=\"https://colab.research.google.com/assets/colab-badge.svg\" alt=\"Open In Colab\"/></a>"
      ]
    },
    {
      "cell_type": "code",
      "execution_count": 5,
      "metadata": {
        "colab": {
          "base_uri": "https://localhost:8080/"
        },
        "id": "GwOCdZ2v5ZbT",
        "outputId": "d8b8d095-d118-4002-e612-1bac3c7725c5"
      },
      "outputs": [
        {
          "output_type": "stream",
          "name": "stdout",
          "text": [
            "   Tid Refund MaritalStatus TaxableIncome Cheat\n",
            "0    1    yes        Single          125k    No\n",
            "1    2     no       Married          100k    No\n",
            "2    3     no        Single           70k    No\n",
            "3    4    yes       Married          120k    No\n",
            "4    5     no      Divorced           95k   yes\n",
            "5    6     no       Married           60k    No\n",
            "6    7    yes      Divorced          220k    No\n",
            "7    8     no        Single           85k   yes\n",
            "8    9     no       Married           75k    No\n",
            "9   10     no        Single           90k   yes\n"
          ]
        }
      ],
      "source": [
        "import pandas as pd\n",
        "dic={\n",
        "    \"Tid\":[1,2,3,4,5,6,7,8,9,10],\n",
        "    \"Refund\":[\"yes\",\"no\",\"no\",\"yes\",\"no\",\"no\",\"yes\",\"no\",\"no\",\"no\"],\n",
        "    \"MaritalStatus\":[\"Single\",\"Married\",\"Single\",\"Married\",\"Divorced\",\"Married\",\"Divorced\",\"Single\",\"Married\",\"Single\"],\n",
        "    \"TaxableIncome\":[\"125k\",\"100k\",\"70k\",\"120k\",\"95k\",\"60k\",\"220k\",\"85k\",\"75k\",\"90k\"],\n",
        "    \"Cheat\":[\"No\",\"No\",\"No\",\"No\",\"yes\",\"No\",\"No\",\"yes\",\"No\",\"yes\"]\n",
        "}\n",
        "data=pd.DataFrame(dic)\n",
        "print(data)"
      ]
    },
    {
      "cell_type": "code",
      "source": [
        "print(pd.DataFrame(data.loc[0]))"
      ],
      "metadata": {
        "colab": {
          "base_uri": "https://localhost:8080/"
        },
        "id": "8XC2lCikAst4",
        "outputId": "769fbaf0-5695-43d0-c3e8-41995ed71ffe"
      },
      "execution_count": 6,
      "outputs": [
        {
          "output_type": "stream",
          "name": "stdout",
          "text": [
            "                    0\n",
            "Tid                 1\n",
            "Refund            yes\n",
            "MaritalStatus  Single\n",
            "TaxableIncome    125k\n",
            "Cheat              No\n"
          ]
        }
      ]
    },
    {
      "cell_type": "code",
      "source": [
        "print(data.loc[4])"
      ],
      "metadata": {
        "colab": {
          "base_uri": "https://localhost:8080/"
        },
        "id": "4Bv1I6wuAxsy",
        "outputId": "f43a97cd-8714-4586-fde9-a08131a4cbd4"
      },
      "execution_count": 7,
      "outputs": [
        {
          "output_type": "stream",
          "name": "stdout",
          "text": [
            "Tid                     5\n",
            "Refund                 no\n",
            "MaritalStatus    Divorced\n",
            "TaxableIncome         95k\n",
            "Cheat                 yes\n",
            "Name: 4, dtype: object\n"
          ]
        }
      ]
    },
    {
      "cell_type": "code",
      "source": [
        "print(data.loc[7])"
      ],
      "metadata": {
        "colab": {
          "base_uri": "https://localhost:8080/"
        },
        "id": "juEjzrFDBaDJ",
        "outputId": "b55075c2-da0b-45ad-ae58-fe29ddb21c60"
      },
      "execution_count": 14,
      "outputs": [
        {
          "output_type": "stream",
          "name": "stdout",
          "text": [
            "Tid                   8\n",
            "Refund               no\n",
            "MaritalStatus    Single\n",
            "TaxableIncome       85k\n",
            "Cheat               yes\n",
            "Name: 7, dtype: object\n"
          ]
        }
      ]
    },
    {
      "cell_type": "code",
      "source": [
        "print(data.loc[8])"
      ],
      "metadata": {
        "colab": {
          "base_uri": "https://localhost:8080/"
        },
        "id": "oxUdF7XBBbeA",
        "outputId": "4f107537-fdca-4250-bb2c-ff9af73ddef1"
      },
      "execution_count": 15,
      "outputs": [
        {
          "output_type": "stream",
          "name": "stdout",
          "text": [
            "Tid                    9\n",
            "Refund                no\n",
            "MaritalStatus    Married\n",
            "TaxableIncome        75k\n",
            "Cheat                 No\n",
            "Name: 8, dtype: object\n"
          ]
        }
      ]
    },
    {
      "cell_type": "code",
      "source": [
        "from google.colab import files\n",
        "import io\n",
        "uploaded = files.upload()"
      ],
      "metadata": {
        "colab": {
          "base_uri": "https://localhost:8080/",
          "height": 73
        },
        "id": "MYAp-4ESBdEY",
        "outputId": "c76d95c0-45f5-4c45-8b7f-3b02c681f1be"
      },
      "execution_count": 2,
      "outputs": [
        {
          "output_type": "display_data",
          "data": {
            "text/plain": [
              "<IPython.core.display.HTML object>"
            ],
            "text/html": [
              "\n",
              "     <input type=\"file\" id=\"files-aaf40733-6557-4eff-8131-a8dc28d8b670\" name=\"files[]\" multiple disabled\n",
              "        style=\"border:none\" />\n",
              "     <output id=\"result-aaf40733-6557-4eff-8131-a8dc28d8b670\">\n",
              "      Upload widget is only available when the cell has been executed in the\n",
              "      current browser session. Please rerun this cell to enable.\n",
              "      </output>\n",
              "      <script>// Copyright 2017 Google LLC\n",
              "//\n",
              "// Licensed under the Apache License, Version 2.0 (the \"License\");\n",
              "// you may not use this file except in compliance with the License.\n",
              "// You may obtain a copy of the License at\n",
              "//\n",
              "//      http://www.apache.org/licenses/LICENSE-2.0\n",
              "//\n",
              "// Unless required by applicable law or agreed to in writing, software\n",
              "// distributed under the License is distributed on an \"AS IS\" BASIS,\n",
              "// WITHOUT WARRANTIES OR CONDITIONS OF ANY KIND, either express or implied.\n",
              "// See the License for the specific language governing permissions and\n",
              "// limitations under the License.\n",
              "\n",
              "/**\n",
              " * @fileoverview Helpers for google.colab Python module.\n",
              " */\n",
              "(function(scope) {\n",
              "function span(text, styleAttributes = {}) {\n",
              "  const element = document.createElement('span');\n",
              "  element.textContent = text;\n",
              "  for (const key of Object.keys(styleAttributes)) {\n",
              "    element.style[key] = styleAttributes[key];\n",
              "  }\n",
              "  return element;\n",
              "}\n",
              "\n",
              "// Max number of bytes which will be uploaded at a time.\n",
              "const MAX_PAYLOAD_SIZE = 100 * 1024;\n",
              "\n",
              "function _uploadFiles(inputId, outputId) {\n",
              "  const steps = uploadFilesStep(inputId, outputId);\n",
              "  const outputElement = document.getElementById(outputId);\n",
              "  // Cache steps on the outputElement to make it available for the next call\n",
              "  // to uploadFilesContinue from Python.\n",
              "  outputElement.steps = steps;\n",
              "\n",
              "  return _uploadFilesContinue(outputId);\n",
              "}\n",
              "\n",
              "// This is roughly an async generator (not supported in the browser yet),\n",
              "// where there are multiple asynchronous steps and the Python side is going\n",
              "// to poll for completion of each step.\n",
              "// This uses a Promise to block the python side on completion of each step,\n",
              "// then passes the result of the previous step as the input to the next step.\n",
              "function _uploadFilesContinue(outputId) {\n",
              "  const outputElement = document.getElementById(outputId);\n",
              "  const steps = outputElement.steps;\n",
              "\n",
              "  const next = steps.next(outputElement.lastPromiseValue);\n",
              "  return Promise.resolve(next.value.promise).then((value) => {\n",
              "    // Cache the last promise value to make it available to the next\n",
              "    // step of the generator.\n",
              "    outputElement.lastPromiseValue = value;\n",
              "    return next.value.response;\n",
              "  });\n",
              "}\n",
              "\n",
              "/**\n",
              " * Generator function which is called between each async step of the upload\n",
              " * process.\n",
              " * @param {string} inputId Element ID of the input file picker element.\n",
              " * @param {string} outputId Element ID of the output display.\n",
              " * @return {!Iterable<!Object>} Iterable of next steps.\n",
              " */\n",
              "function* uploadFilesStep(inputId, outputId) {\n",
              "  const inputElement = document.getElementById(inputId);\n",
              "  inputElement.disabled = false;\n",
              "\n",
              "  const outputElement = document.getElementById(outputId);\n",
              "  outputElement.innerHTML = '';\n",
              "\n",
              "  const pickedPromise = new Promise((resolve) => {\n",
              "    inputElement.addEventListener('change', (e) => {\n",
              "      resolve(e.target.files);\n",
              "    });\n",
              "  });\n",
              "\n",
              "  const cancel = document.createElement('button');\n",
              "  inputElement.parentElement.appendChild(cancel);\n",
              "  cancel.textContent = 'Cancel upload';\n",
              "  const cancelPromise = new Promise((resolve) => {\n",
              "    cancel.onclick = () => {\n",
              "      resolve(null);\n",
              "    };\n",
              "  });\n",
              "\n",
              "  // Wait for the user to pick the files.\n",
              "  const files = yield {\n",
              "    promise: Promise.race([pickedPromise, cancelPromise]),\n",
              "    response: {\n",
              "      action: 'starting',\n",
              "    }\n",
              "  };\n",
              "\n",
              "  cancel.remove();\n",
              "\n",
              "  // Disable the input element since further picks are not allowed.\n",
              "  inputElement.disabled = true;\n",
              "\n",
              "  if (!files) {\n",
              "    return {\n",
              "      response: {\n",
              "        action: 'complete',\n",
              "      }\n",
              "    };\n",
              "  }\n",
              "\n",
              "  for (const file of files) {\n",
              "    const li = document.createElement('li');\n",
              "    li.append(span(file.name, {fontWeight: 'bold'}));\n",
              "    li.append(span(\n",
              "        `(${file.type || 'n/a'}) - ${file.size} bytes, ` +\n",
              "        `last modified: ${\n",
              "            file.lastModifiedDate ? file.lastModifiedDate.toLocaleDateString() :\n",
              "                                    'n/a'} - `));\n",
              "    const percent = span('0% done');\n",
              "    li.appendChild(percent);\n",
              "\n",
              "    outputElement.appendChild(li);\n",
              "\n",
              "    const fileDataPromise = new Promise((resolve) => {\n",
              "      const reader = new FileReader();\n",
              "      reader.onload = (e) => {\n",
              "        resolve(e.target.result);\n",
              "      };\n",
              "      reader.readAsArrayBuffer(file);\n",
              "    });\n",
              "    // Wait for the data to be ready.\n",
              "    let fileData = yield {\n",
              "      promise: fileDataPromise,\n",
              "      response: {\n",
              "        action: 'continue',\n",
              "      }\n",
              "    };\n",
              "\n",
              "    // Use a chunked sending to avoid message size limits. See b/62115660.\n",
              "    let position = 0;\n",
              "    do {\n",
              "      const length = Math.min(fileData.byteLength - position, MAX_PAYLOAD_SIZE);\n",
              "      const chunk = new Uint8Array(fileData, position, length);\n",
              "      position += length;\n",
              "\n",
              "      const base64 = btoa(String.fromCharCode.apply(null, chunk));\n",
              "      yield {\n",
              "        response: {\n",
              "          action: 'append',\n",
              "          file: file.name,\n",
              "          data: base64,\n",
              "        },\n",
              "      };\n",
              "\n",
              "      let percentDone = fileData.byteLength === 0 ?\n",
              "          100 :\n",
              "          Math.round((position / fileData.byteLength) * 100);\n",
              "      percent.textContent = `${percentDone}% done`;\n",
              "\n",
              "    } while (position < fileData.byteLength);\n",
              "  }\n",
              "\n",
              "  // All done.\n",
              "  yield {\n",
              "    response: {\n",
              "      action: 'complete',\n",
              "    }\n",
              "  };\n",
              "}\n",
              "\n",
              "scope.google = scope.google || {};\n",
              "scope.google.colab = scope.google.colab || {};\n",
              "scope.google.colab._files = {\n",
              "  _uploadFiles,\n",
              "  _uploadFilesContinue,\n",
              "};\n",
              "})(self);\n",
              "</script> "
            ]
          },
          "metadata": {}
        },
        {
          "output_type": "stream",
          "name": "stdout",
          "text": [
            "Saving f.csv.csv to f.csv.csv\n"
          ]
        }
      ]
    },
    {
      "cell_type": "code",
      "source": [],
      "metadata": {
        "id": "opc7LHlND3n9"
      },
      "execution_count": null,
      "outputs": []
    },
    {
      "cell_type": "code",
      "source": [
        "df = pd.read_csv(io.BytesIO(uploaded['f.csv.csv']))\n",
        "print(df)"
      ],
      "metadata": {
        "colab": {
          "base_uri": "https://localhost:8080/"
        },
        "id": "O1YNQwW2B40H",
        "outputId": "44502499-a38f-4a24-dd67-b5201d930f1a"
      },
      "execution_count": 8,
      "outputs": [
        {
          "output_type": "stream",
          "name": "stdout",
          "text": [
            "      Series_reference   Period  Data_value Suppressed STATUS   UNITS  \\\n",
            "0          BDCQ.SEA1AA  2011.06     80078.0        NaN      F  Number   \n",
            "1          BDCQ.SEA1AA  2011.09     78324.0        NaN      F  Number   \n",
            "2          BDCQ.SEA1AA  2011.12     85850.0        NaN      F  Number   \n",
            "3          BDCQ.SEA1AA  2012.03     90743.0        NaN      F  Number   \n",
            "4          BDCQ.SEA1AA  2012.06     81780.0        NaN      F  Number   \n",
            "...                ...      ...         ...        ...    ...     ...   \n",
            "22184    BDCQ.SEE3999A  2017.06         NaN          Y      C  Number   \n",
            "22185    BDCQ.SEE3999A  2017.09         NaN          Y      C  Number   \n",
            "22186    BDCQ.SEE3999A  2017.12         NaN          Y      C  Number   \n",
            "22187    BDCQ.SEE3999A  2018.03         NaN          Y      C  Number   \n",
            "22188    BDCQ.SEE3999A  2018.06         NaN          Y      C  Number   \n",
            "\n",
            "       Magnitude                         Subject  \\\n",
            "0              0  Business Data Collection - BDC   \n",
            "1              0  Business Data Collection - BDC   \n",
            "2              0  Business Data Collection - BDC   \n",
            "3              0  Business Data Collection - BDC   \n",
            "4              0  Business Data Collection - BDC   \n",
            "...          ...                             ...   \n",
            "22184          0  Business Data Collection - BDC   \n",
            "22185          0  Business Data Collection - BDC   \n",
            "22186          0  Business Data Collection - BDC   \n",
            "22187          0  Business Data Collection - BDC   \n",
            "22188          0  Business Data Collection - BDC   \n",
            "\n",
            "                                              Group  \\\n",
            "0                   Industry by employment variable   \n",
            "1                   Industry by employment variable   \n",
            "2                   Industry by employment variable   \n",
            "3                   Industry by employment variable   \n",
            "4                   Industry by employment variable   \n",
            "...                                             ...   \n",
            "22184  Territorial authority by employment variable   \n",
            "22185  Territorial authority by employment variable   \n",
            "22186  Territorial authority by employment variable   \n",
            "22187  Territorial authority by employment variable   \n",
            "22188  Territorial authority by employment variable   \n",
            "\n",
            "                               Series_title_1  \\\n",
            "0                                 Filled jobs   \n",
            "1                                 Filled jobs   \n",
            "2                                 Filled jobs   \n",
            "3                                 Filled jobs   \n",
            "4                                 Filled jobs   \n",
            "...                                       ...   \n",
            "22184  Filled jobs (workplace location based)   \n",
            "22185  Filled jobs (workplace location based)   \n",
            "22186  Filled jobs (workplace location based)   \n",
            "22187  Filled jobs (workplace location based)   \n",
            "22188  Filled jobs (workplace location based)   \n",
            "\n",
            "                           Series_title_2 Series_title_3  Series_title_4  \\\n",
            "0       Agriculture, Forestry and Fishing         Actual             NaN   \n",
            "1       Agriculture, Forestry and Fishing         Actual             NaN   \n",
            "2       Agriculture, Forestry and Fishing         Actual             NaN   \n",
            "3       Agriculture, Forestry and Fishing         Actual             NaN   \n",
            "4       Agriculture, Forestry and Fishing         Actual             NaN   \n",
            "...                                   ...            ...             ...   \n",
            "22184  Area Outside Territorial Authority         Actual             NaN   \n",
            "22185  Area Outside Territorial Authority         Actual             NaN   \n",
            "22186  Area Outside Territorial Authority         Actual             NaN   \n",
            "22187  Area Outside Territorial Authority         Actual             NaN   \n",
            "22188  Area Outside Territorial Authority         Actual             NaN   \n",
            "\n",
            "       Series_title_5  \n",
            "0                 NaN  \n",
            "1                 NaN  \n",
            "2                 NaN  \n",
            "3                 NaN  \n",
            "4                 NaN  \n",
            "...               ...  \n",
            "22184             NaN  \n",
            "22185             NaN  \n",
            "22186             NaN  \n",
            "22187             NaN  \n",
            "22188             NaN  \n",
            "\n",
            "[22189 rows x 14 columns]\n"
          ]
        }
      ]
    },
    {
      "cell_type": "code",
      "source": [],
      "metadata": {
        "id": "EEHCFq2IDGW6"
      },
      "execution_count": null,
      "outputs": []
    }
  ]
}