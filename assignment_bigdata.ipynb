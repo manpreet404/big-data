{
 "cells": [
  {
   "cell_type": "markdown",
   "id": "5c075bd0-19ee-4188-b27a-7ff2f1bf1b5d",
   "metadata": {},
   "source": [
    "#firstprogram\n",
    "this is going to be the first learning towards the python lib numpy"
   ]
  },
  {
   "cell_type": "code",
   "execution_count": 1,
   "id": "d2d6d5c7-3f27-487b-ba38-58cb16eedad6",
   "metadata": {},
   "outputs": [],
   "source": [
    "import numpy as np"
   ]
  },
  {
   "cell_type": "code",
   "execution_count": 29,
   "id": "06ee666b-d071-42a4-b70a-4c5e8524c092",
   "metadata": {},
   "outputs": [
    {
     "name": "stdout",
     "output_type": "stream",
     "text": [
      "[5 4 6 3 2 1]\n"
     ]
    }
   ],
   "source": [
    "arr = np.array([1, 2, 3, 6, 4, 5]) \n",
    "rev_arr=arr[::-1]\n",
    "print(rev_arr)"
   ]
  },
  {
   "cell_type": "code",
   "execution_count": 34,
   "id": "4067dc3f-30db-4b10-918f-d9fc1425f1c7",
   "metadata": {},
   "outputs": [
    {
     "name": "stdout",
     "output_type": "stream",
     "text": [
      "[[ True  True]\n",
      " [ True  True]]\n"
     ]
    }
   ],
   "source": [
    "arr1 = np.array([[1, 2], [3, 4]])\n",
    "arr2 = np.array([[1, 2], [3, 4]]) \n",
    "compare=arr1==arr2\n",
    "print(compare)"
   ]
  },
  {
   "cell_type": "code",
   "execution_count": 39,
   "id": "d6108182-5229-42ae-86be-d9880fd4ee72",
   "metadata": {},
   "outputs": [
    {
     "name": "stdout",
     "output_type": "stream",
     "text": [
      "Most frequent value: 1\n",
      "Indices of most frequent value: [0]\n"
     ]
    }
   ],
   "source": [
    "x = np.array([1,2,3,4,5,1,2,1,1,1])\n",
    "unique_elements, counts = np.unique(arr, return_counts=True)\n",
    "most_frequent_index = np.argmax(counts)\n",
    "most_frequent_value = unique_elements[most_frequent_index]\n",
    "indices_of_most_frequent_value = np.where(arr == most_frequent_value)[0]\n",
    "print(\"Most frequent value:\", most_frequent_value)\n",
    "print(\"Indices of most frequent value:\", indices_of_most_frequent_value)\n"
   ]
  },
  {
   "cell_type": "code",
   "execution_count": 40,
   "id": "4fa70f7c-e216-4e97-bb10-e1412dc4bf47",
   "metadata": {},
   "outputs": [
    {
     "name": "stdout",
     "output_type": "stream",
     "text": [
      "Most frequent value: 1\n",
      "Indices of most frequent value: [0]\n"
     ]
    }
   ],
   "source": [
    "y = np.array([1, 1, 1, 2, 3, 4, 2, 4, 3, 3, ]) \n",
    "unique_elements, counts = np.unique(arr, return_counts=True)\n",
    "most_frequent_index = np.argmax(counts)\n",
    "most_frequent_value = unique_elements[most_frequent_index]\n",
    "indices_of_most_frequent_value = np.where(arr == most_frequent_value)[0]\n",
    "print(\"Most frequent value:\", most_frequent_value)\n",
    "print(\"Indices of most frequent value:\", indices_of_most_frequent_value)\n"
   ]
  },
  {
   "cell_type": "code",
   "execution_count": 38,
   "id": "5de034db-c469-49b7-93bf-1f19457e95d2",
   "metadata": {},
   "outputs": [
    {
     "name": "stdout",
     "output_type": "stream",
     "text": [
      "[[20  9 16]]\n",
      "[[14]\n",
      " [16]\n",
      " [15]]\n"
     ]
    }
   ],
   "source": [
    "gfg = np.matrix('[4, 1, 9; 12, 3, 1; 4, 5, 6]')\n",
    "output=gfg.sum(axis=0)#column wise\n",
    "print(output)\n",
    "output2=gfg.sum(axis=1)\n",
    "print(output2)"
   ]
  },
  {
   "cell_type": "code",
   "execution_count": null,
   "id": "2f23122e-face-4b3c-b6a5-d732a3e142d2",
   "metadata": {},
   "outputs": [],
   "source": []
  }
 ],
 "metadata": {
  "kernelspec": {
   "display_name": "Python 3 (ipykernel)",
   "language": "python",
   "name": "python3"
  },
  "language_info": {
   "codemirror_mode": {
    "name": "ipython",
    "version": 3
   },
   "file_extension": ".py",
   "mimetype": "text/x-python",
   "name": "python",
   "nbconvert_exporter": "python",
   "pygments_lexer": "ipython3",
   "version": "3.11.4"
  }
 },
 "nbformat": 4,
 "nbformat_minor": 5
}
