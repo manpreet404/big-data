{
 "cells": [
  {
   "cell_type": "code",
   "execution_count": 19,
   "id": "b6bfed49-17b7-4044-ba67-c02f572c6e01",
   "metadata": {},
   "outputs": [
    {
     "name": "stdout",
     "output_type": "stream",
     "text": [
      "[ 10  16  16  52  54  62 453]\n"
     ]
    }
   ],
   "source": [
    "import numpy as np\n",
    "\n",
    "arr = np.array([10, 52, 62, 16, 16, 54, 453])\n",
    "sorted_arr = np.sort(arr)\n",
    "print(sorted_arr)\n",
    "\n"
   ]
  },
  {
   "cell_type": "code",
   "execution_count": 21,
   "id": "e3c9f1fc-1aee-4c00-9109-a7038856d60d",
   "metadata": {},
   "outputs": [
    {
     "name": "stdout",
     "output_type": "stream",
     "text": [
      "[0 3 4 1 5 2 6]\n"
     ]
    }
   ],
   "source": [
    "arr = np.array([10, 52, 62, 16, 16, 54, 453])\n",
    "ind = np.argsort(arr)\n",
    "print(ind)\n"
   ]
  },
  {
   "cell_type": "code",
   "execution_count": 30,
   "id": "5efc8cee-a438-4926-a0f3-39d503379be1",
   "metadata": {},
   "outputs": [
    {
     "name": "stdout",
     "output_type": "stream",
     "text": [
      "Four smallest elements: [10 16 16 52]\n"
     ]
    }
   ],
   "source": [
    "print(\"Four smallest elements:\", sorted_arr[:4])\n",
    "\n"
   ]
  },
  {
   "cell_type": "code",
   "execution_count": 31,
   "id": "77e65e48-05ac-4af3-beb9-bdf8e23cd9c0",
   "metadata": {},
   "outputs": [
    {
     "name": "stdout",
     "output_type": "stream",
     "text": [
      "FIVE LARGEST elements: [ 16  52  54  62 453]\n"
     ]
    }
   ],
   "source": [
    "print(\"FIVE LARGEST elements:\", sorted_arr[-5:])"
   ]
  },
  {
   "cell_type": "code",
   "execution_count": null,
   "id": "ab5ec231-6b47-4d88-b62f-dc82c8df7ea7",
   "metadata": {},
   "outputs": [],
   "source": []
  },
  {
   "cell_type": "code",
   "execution_count": null,
   "id": "d38a13a0-2c7e-40b8-b889-0d6a2d9ecd6e",
   "metadata": {},
   "outputs": [],
   "source": []
  }
 ],
 "metadata": {
  "kernelspec": {
   "display_name": "Python 3 (ipykernel)",
   "language": "python",
   "name": "python3"
  },
  "language_info": {
   "codemirror_mode": {
    "name": "ipython",
    "version": 3
   },
   "file_extension": ".py",
   "mimetype": "text/x-python",
   "name": "python",
   "nbconvert_exporter": "python",
   "pygments_lexer": "ipython3",
   "version": "3.11.4"
  }
 },
 "nbformat": 4,
 "nbformat_minor": 5
}
